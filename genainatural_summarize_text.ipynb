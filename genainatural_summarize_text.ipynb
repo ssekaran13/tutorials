{
  "metadata": {
    "kernelspec": {
      "name": "python3",
      "display_name": "Python 3 (ipykernel)",
      "language": "python"
    },
    "language_info": {
      "name": "python",
      "version": "3.10.4",
      "mimetype": "text/x-python",
      "codemirror_mode": {
        "name": "ipython",
        "version": 3
      },
      "pygments_lexer": "ipython3",
      "nbconvert_exporter": "python",
      "file_extension": ".py"
    },
    "colab": {
      "provenance": [],
      "include_colab_link": true
    }
  },
  "nbformat_minor": 5,
  "nbformat": 4,
  "cells": [
    {
      "cell_type": "markdown",
      "metadata": {
        "id": "view-in-github",
        "colab_type": "text"
      },
      "source": [
        "<a href=\"https://colab.research.google.com/github/ssekaran13/tutorials/blob/master/genainatural_summarize_text.ipynb\" target=\"_parent\"><img src=\"https://colab.research.google.com/assets/colab-badge.svg\" alt=\"Open In Colab\"/></a>"
      ]
    },
    {
      "cell_type": "code",
      "source": [
        "! pip install google-cloud-aiplatform --upgrade --user"
      ],
      "metadata": {
        "id": "s0U8OEnAJBYx"
      },
      "id": "s0U8OEnAJBYx",
      "execution_count": null,
      "outputs": []
    },
    {
      "cell_type": "code",
      "source": [
        "from google.colab import auth\n",
        "from google.cloud import aiplatform\n",
        "import vertexai\n",
        "from vertexai.preview.language_models import TextGenerationModel\n",
        "\n",
        "\n",
        "# choose a google account associated with the cloud project\n",
        "auth.authenticate_user()\n",
        "\n",
        "# create a client to interact with the API\n",
        "aiplatform.init(\n",
        "    project= \"nodal-rex-396806\",\n",
        "    location= \"us-central1\",\n",
        ")\n",
        "\n",
        "text_generation_model = TextGenerationModel.from_pretrained(\"text-bison@001\")\n",
        "prompt = \"What is prompt design?\"\n",
        "answer = text_generation_model.predict(prompt, max_output_tokens=1024).text\n",
        "\n",
        "print(answer)"
      ],
      "metadata": {
        "id": "TKzPoq0OJSJs"
      },
      "id": "TKzPoq0OJSJs",
      "execution_count": null,
      "outputs": []
    },
    {
      "cell_type": "code",
      "source": [
        "prompt = \"Summarize this text: \" + answer\n",
        "summarize_answer = text_generation_model.predict(prompt, max_output_tokens=1024).text\n",
        "\n",
        "print(summarize_answer)"
      ],
      "metadata": {
        "id": "zukZelI2ToG4"
      },
      "id": "zukZelI2ToG4",
      "execution_count": null,
      "outputs": []
    }
  ]
}